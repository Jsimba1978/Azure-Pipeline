{
 "cells": [
  {
   "cell_type": "code",
   "execution_count": 0,
   "metadata": {
    "application/vnd.databricks.v1+cell": {
     "cellMetadata": {
      "byteLimit": 2048000,
      "rowLimit": 10000
     },
     "inputWidgets": {},
     "nuid": "52eaf699-c43f-4479-a08b-88e40f4cf2ff",
     "showTitle": false,
     "title": ""
    }
   },
   "outputs": [
    {
     "output_type": "stream",
     "name": "stdout",
     "output_type": "stream",
     "text": [
      "Out[6]: True"
     ]
    }
   ],
   "source": [
    "configs = {\n",
    "    \"fs.azure.account.auth.type\": \"OAuth\",\n",
    "    \"fs.azure.account.oauth.provider.type\": \"org.apache.hadoop.fs.azurebfs.oauth2.ClientCredsTokenProvider\",\n",
    "    \"fs.azure.account.oauth2.client.id\": \"client-id\",\n",
    "    \"fs.azure.account.oauth2.client.secret\": \"client-secret-id\",\n",
    "    \"fs.azure.account.oauth2.client.endpoint\": \"https://login.microsoftonline.com/tenant-id/oauth2/token\",\n",
    "}\n",
    "\n",
    "dbutils.fs.mount(\n",
    "    source=\"abfss://formula-one-data@dataformula1.dfs.core.windows.net/raw-data\", #containername@storagename\n",
    "    mount_point=\"/mnt/dataformula1\",\n",
    "    extra_configs=configs\n",
    ")\n"
   ]
  },
  {
   "cell_type": "code",
   "execution_count": 0,
   "metadata": {
    "application/vnd.databricks.v1+cell": {
     "cellMetadata": {
      "byteLimit": 2048000,
      "rowLimit": 10000
     },
     "inputWidgets": {},
     "nuid": "b36b221a-dac6-4710-a4e4-6ae426619613",
     "showTitle": false,
     "title": ""
    }
   },
   "outputs": [
    {
     "output_type": "display_data",
     "data": {
      "text/html": [
       "<style scoped>\n",
       "  .table-result-container {\n",
       "    max-height: 300px;\n",
       "    overflow: auto;\n",
       "  }\n",
       "  table, th, td {\n",
       "    border: 1px solid black;\n",
       "    border-collapse: collapse;\n",
       "  }\n",
       "  th, td {\n",
       "    padding: 5px;\n",
       "  }\n",
       "  th {\n",
       "    text-align: left;\n",
       "  }\n",
       "</style><div class='table-result-container'><table class='table-result'><thead style='background-color: white'><tr><th>path</th><th>name</th><th>size</th><th>modificationTime</th></tr></thead><tbody><tr><td>dbfs:/mnt/dataformula1/deliveries.csv</td><td>deliveries.csv</td><td>18235327</td><td>1724501015000</td></tr><tr><td>dbfs:/mnt/dataformula1/formula-one-data/</td><td>formula-one-data/</td><td>0</td><td>0</td></tr><tr><td>dbfs:/mnt/dataformula1/matches.csv</td><td>matches.csv</td><td>143378</td><td>1724501001000</td></tr><tr><td>dbfs:/mnt/dataformula1/most_runs_average_strikerate.csv</td><td>most_runs_average_strikerate.csv</td><td>23917</td><td>1724500999000</td></tr></tbody></table></div>"
      ]
     },
     "metadata": {
      "application/vnd.databricks.v1+output": {
       "addedWidgets": {},
       "aggData": [],
       "aggError": "",
       "aggOverflow": false,
       "aggSchema": [],
       "aggSeriesLimitReached": false,
       "aggType": "",
       "arguments": {},
       "columnCustomDisplayInfos": {},
       "data": [
        [
         "dbfs:/mnt/dataformula1/deliveries.csv",
         "deliveries.csv",
         18235327,
         1724501015000
        ],
        [
         "dbfs:/mnt/dataformula1/formula-one-data/",
         "formula-one-data/",
         0,
         0
        ],
        [
         "dbfs:/mnt/dataformula1/matches.csv",
         "matches.csv",
         143378,
         1724501001000
        ],
        [
         "dbfs:/mnt/dataformula1/most_runs_average_strikerate.csv",
         "most_runs_average_strikerate.csv",
         23917,
         1724500999000
        ]
       ],
       "datasetInfos": [],
       "dbfsResultPath": null,
       "isJsonSchema": true,
       "metadata": {
        "isDbfsCommandResult": false
       },
       "overflow": false,
       "plotOptions": {
        "customPlotOptions": {},
        "displayType": "table",
        "pivotAggregation": null,
        "pivotColumns": null,
        "xColumns": null,
        "yColumns": null
       },
       "removedWidgets": [],
       "schema": [
        {
         "metadata": "{}",
         "name": "path",
         "type": "\"string\""
        },
        {
         "metadata": "{}",
         "name": "name",
         "type": "\"string\""
        },
        {
         "metadata": "{}",
         "name": "size",
         "type": "\"long\""
        },
        {
         "metadata": "{}",
         "name": "modificationTime",
         "type": "\"long\""
        }
       ],
       "type": "table"
      }
     },
     "output_type": "display_data"
    }
   ],
   "source": [
    "%fs\n",
    "ls \"/mnt/dataformula1\""
   ]
  },
  {
   "cell_type": "code",
   "execution_count": 0,
   "metadata": {
    "application/vnd.databricks.v1+cell": {
     "cellMetadata": {
      "byteLimit": 2048000,
      "rowLimit": 10000
     },
     "inputWidgets": {},
     "nuid": "54951ca1-55c6-434e-8bc7-a179b9884280",
     "showTitle": false,
     "title": ""
    }
   },
   "outputs": [],
   "source": [
    "df_matches = spark.read.option(\"header\", \"true\").csv(\"/mnt/dataformula1/formula-one-data/raw-data/matches.csv\")"
   ]
  },
  {
   "cell_type": "code",
   "execution_count": 0,
   "metadata": {
    "application/vnd.databricks.v1+cell": {
     "cellMetadata": {
      "byteLimit": 2048000,
      "rowLimit": 10000
     },
     "inputWidgets": {},
     "nuid": "6674dc1b-02cb-4457-a6a7-96ef4c68d61b",
     "showTitle": false,
     "title": ""
    }
   },
   "outputs": [
    {
     "output_type": "stream",
     "name": "stdout",
     "output_type": "stream",
     "text": [
      "+---+--------+---------+----------+--------------------+--------------------+--------------------+-------------+------+----------+--------------------+-----------+--------------+---------------+--------------------+--------------+-------------+-------+\n| id|  Season|     city|      date|               team1|               team2|         toss_winner|toss_decision|result|dl_applied|              winner|win_by_runs|win_by_wickets|player_of_match|               venue|       umpire1|      umpire2|umpire3|\n+---+--------+---------+----------+--------------------+--------------------+--------------------+-------------+------+----------+--------------------+-----------+--------------+---------------+--------------------+--------------+-------------+-------+\n|  1|IPL-2017|Hyderabad|05-04-2017| Sunrisers Hyderabad|Royal Challengers...|Royal Challengers...|        field|normal|         0| Sunrisers Hyderabad|         35|             0|   Yuvraj Singh|Rajiv Gandhi Inte...|   AY Dandekar|     NJ Llong|   null|\n|  2|IPL-2017|     Pune|06-04-2017|      Mumbai Indians|Rising Pune Super...|Rising Pune Super...|        field|normal|         0|Rising Pune Super...|          0|             7|      SPD Smith|Maharashtra Crick...|A Nand Kishore|       S Ravi|   null|\n|  3|IPL-2017|   Rajkot|07-04-2017|       Gujarat Lions|Kolkata Knight Ri...|Kolkata Knight Ri...|        field|normal|         0|Kolkata Knight Ri...|          0|            10|        CA Lynn|Saurashtra Cricke...|   Nitin Menon|    CK Nandan|   null|\n|  4|IPL-2017|   Indore|08-04-2017|Rising Pune Super...|     Kings XI Punjab|     Kings XI Punjab|        field|normal|         0|     Kings XI Punjab|          0|             6|     GJ Maxwell|Holkar Cricket St...|  AK Chaudhary|C Shamshuddin|   null|\n|  5|IPL-2017|Bangalore|08-04-2017|Royal Challengers...|    Delhi Daredevils|Royal Challengers...|          bat|normal|         0|Royal Challengers...|         15|             0|      KM Jadhav|M Chinnaswamy Sta...|          null|         null|   null|\n|  6|IPL-2017|Hyderabad|09-04-2017|       Gujarat Lions| Sunrisers Hyderabad| Sunrisers Hyderabad|        field|normal|         0| Sunrisers Hyderabad|          0|             9|    Rashid Khan|Rajiv Gandhi Inte...|    A Deshmukh|     NJ Llong|   null|\n|  7|IPL-2017|   Mumbai|09-04-2017|Kolkata Knight Ri...|      Mumbai Indians|      Mumbai Indians|        field|normal|         0|      Mumbai Indians|          0|             4|         N Rana|    Wankhede Stadium|   Nitin Menon|    CK Nandan|   null|\n|  8|IPL-2017|   Indore|10-04-2017|Royal Challengers...|     Kings XI Punjab|Royal Challengers...|          bat|normal|         0|     Kings XI Punjab|          0|             8|       AR Patel|Holkar Cricket St...|  AK Chaudhary|C Shamshuddin|   null|\n|  9|IPL-2017|     Pune|11-04-2017|    Delhi Daredevils|Rising Pune Super...|Rising Pune Super...|        field|normal|         0|    Delhi Daredevils|         97|             0|      SV Samson|Maharashtra Crick...|   AY Dandekar|       S Ravi|   null|\n| 10|IPL-2017|   Mumbai|12-04-2017| Sunrisers Hyderabad|      Mumbai Indians|      Mumbai Indians|        field|normal|         0|      Mumbai Indians|          0|             4|      JJ Bumrah|    Wankhede Stadium|   Nitin Menon|    CK Nandan|   null|\n+---+--------+---------+----------+--------------------+--------------------+--------------------+-------------+------+----------+--------------------+-----------+--------------+---------------+--------------------+--------------+-------------+-------+\nonly showing top 10 rows\n\n"
     ]
    }
   ],
   "source": [
    "df_matches.show(10)"
   ]
  },
  {
   "cell_type": "code",
   "execution_count": 0,
   "metadata": {
    "application/vnd.databricks.v1+cell": {
     "cellMetadata": {
      "byteLimit": 2048000,
      "rowLimit": 10000
     },
     "inputWidgets": {},
     "nuid": "0647bff5-6bb7-42e3-aab1-1ad6f4067923",
     "showTitle": false,
     "title": ""
    }
   },
   "outputs": [
    {
     "output_type": "stream",
     "name": "stdout",
     "output_type": "stream",
     "text": [
      "+--------------+----------+---+-------------+------------------+------------------+\n|       batsman|total_runs|out|numberofballs|           average|        strikerate|\n+--------------+----------+---+-------------+------------------+------------------+\n|       V Kohli|      5426|152|         4111| 35.69736842105263|131.98735100948676|\n|      SK Raina|      5386|160|         3916|           33.6625|137.53830439223697|\n|     RG Sharma|      4902|161|         3742|  30.4472049689441|130.99946552645645|\n|     DA Warner|      4717|114|         3292| 41.37719298245614|143.28675577156744|\n|      S Dhawan|      4601|137|         3665|33.583941605839414|125.53888130968622|\n|      CH Gayle|      4525|110|         2972| 41.13636363636363| 152.2543741588156|\n|      MS Dhoni|      4450|118|         3206| 37.71186440677966|138.80224578914536|\n|    RV Uthappa|      4420|156|         3381|28.333333333333332|130.73055309080155|\n|AB de Villiers|      4414|104|         2902| 42.44230769230769|152.10199862164023|\n|     G Gambhir|      4219|134|         3400| 31.48507462686567|124.08823529411765|\n|     AM Rahane|      3834|117|         3133| 32.76923076923077|122.37472071496968|\n|    KD Karthik|      3669|138|         2813| 26.58695652173913|130.43014575186632|\n|     SR Watson|      3590|115|         2566|31.217391304347824|139.90646921278253|\n|     AT Rayudu|      3313|114|         2616| 29.06140350877193|126.64373088685015|\n|     YK Pathan|      3222|110|         2240| 29.29090909090909|143.83928571428572|\n|   BB McCullum|      2886|106|         2185| 27.22641509433962|132.08237986270024|\n|      PA Patel|      2864|127|         2352|22.551181102362204| 121.7687074829932|\n|     MK Pandey|      2855| 95|         2352| 30.05263157894737| 121.3860544217687|\n|    KA Pollard|      2772|102|         1879|27.176470588235293|147.52527940393827|\n|  Yuvraj Singh|      2755|109|         2121|25.275229357798164| 129.8915605846299|\n+--------------+----------+---+-------------+------------------+------------------+\nonly showing top 20 rows\n\n"
     ]
    }
   ],
   "source": [
    "df_most_runs_average_strikerate = spark.read.option(\"header\", \"true\").csv(\"/mnt/dataformula1/formula-one-data/raw-data/most_runs_average_strikerate.csv\")\n",
    "df_most_runs_average_strikerate.show()"
   ]
  },
  {
   "cell_type": "code",
   "execution_count": 0,
   "metadata": {
    "application/vnd.databricks.v1+cell": {
     "cellMetadata": {
      "byteLimit": 2048000,
      "rowLimit": 10000
     },
     "inputWidgets": {},
     "nuid": "1e3c9bb3-4d1d-489b-bc66-0cd43e0326be",
     "showTitle": false,
     "title": ""
    }
   },
   "outputs": [
    {
     "output_type": "display_data",
     "data": {
      "text/html": [
       "\n",
       "            <div>\n",
       "                <p><b>SparkSession - hive</b></p>\n",
       "                \n",
       "        <div>\n",
       "            <p><b>SparkContext</b></p>\n",
       "\n",
       "            <p><a href=\"/?o=3057355825692779#setting/sparkui/0822-182231-uajh04c0/driver-1959841743518944431\">Spark UI</a></p>\n",
       "\n",
       "            <dl>\n",
       "              <dt>Version</dt>\n",
       "                <dd><code>v3.3.2</code></dd>\n",
       "              <dt>Master</dt>\n",
       "                <dd><code>local[*, 4]</code></dd>\n",
       "              <dt>AppName</dt>\n",
       "                <dd><code>Databricks Shell</code></dd>\n",
       "            </dl>\n",
       "        </div>\n",
       "        \n",
       "            </div>\n",
       "        "
      ]
     },
     "metadata": {
      "application/vnd.databricks.v1+output": {
       "addedWidgets": {},
       "arguments": {},
       "data": "\n            <div>\n                <p><b>SparkSession - hive</b></p>\n                \n        <div>\n            <p><b>SparkContext</b></p>\n\n            <p><a href=\"/?o=3057355825692779#setting/sparkui/0822-182231-uajh04c0/driver-1959841743518944431\">Spark UI</a></p>\n\n            <dl>\n              <dt>Version</dt>\n                <dd><code>v3.3.2</code></dd>\n              <dt>Master</dt>\n                <dd><code>local[*, 4]</code></dd>\n              <dt>AppName</dt>\n                <dd><code>Databricks Shell</code></dd>\n            </dl>\n        </div>\n        \n            </div>\n        ",
       "datasetInfos": [],
       "metadata": {},
       "removedWidgets": [],
       "textData": null,
       "type": "htmlSandbox"
      }
     },
     "output_type": "display_data"
    }
   ],
   "source": [
    "spark\n"
   ]
  },
  {
   "cell_type": "code",
   "execution_count": 0,
   "metadata": {
    "application/vnd.databricks.v1+cell": {
     "cellMetadata": {
      "byteLimit": 2048000,
      "rowLimit": 10000
     },
     "inputWidgets": {},
     "nuid": "286ca771-b9bf-407b-a8fc-c09d9c9b8653",
     "showTitle": false,
     "title": ""
    }
   },
   "outputs": [
    {
     "output_type": "stream",
     "name": "stdout",
     "output_type": "stream",
     "text": [
      "+--------------+----------+---+-------------+------------------+------------------+\n|       batsman|total_runs|out|numberofballs|           average|        strikerate|\n+--------------+----------+---+-------------+------------------+------------------+\n|      SK Raina|      5386|160|         3916|           33.6625|137.53830439223697|\n|     DA Warner|      4717|114|         3292| 41.37719298245614|143.28675577156744|\n|      CH Gayle|      4525|110|         2972| 41.13636363636363| 152.2543741588156|\n|      MS Dhoni|      4450|118|         3206| 37.71186440677966|138.80224578914536|\n|AB de Villiers|      4414|104|         2902| 42.44230769230769|152.10199862164023|\n|     SR Watson|      3590|115|         2566|31.217391304347824|139.90646921278253|\n|     YK Pathan|      3222|110|         2240| 29.29090909090909|143.83928571428572|\n|    KA Pollard|      2772|102|         1879|27.176470588235293|147.52527940393827|\n|      V Sehwag|      2728| 98|         1746|27.836734693877553|156.24284077892327|\n|  AC Gilchrist|      2069| 76|         1492|27.223684210526315|138.67292225201072|\n|      KL Rahul|      1988| 49|         1428| 40.57142857142857| 139.2156862745098|\n|     DA Miller|      1858| 54|         1327|34.407407407407405|140.01507159005274|\n|       RR Pant|      1767| 49|         1071| 36.06122448979592| 164.9859943977591|\n|    AD Russell|      1415| 41|          752| 34.51219512195122|188.16489361702128|\n|    GJ Maxwell|      1401| 62|          864|22.596774193548388|162.15277777777777|\n|    JC Buttler|      1396| 37|          919|37.729729729729726|151.90424374319912|\n|       CA Lynn|      1288| 37|          909|34.810810810810814| 141.6941694169417|\n|     ML Hayden|      1107| 27|          802|              41.0| 138.0299251870324|\n|     HH Pandya|      1082| 38|          689|28.473684210526315|157.03918722786648|\n|     JA Morkel|       975| 40|          682|            24.375|142.96187683284458|\n+--------------+----------+---+-------------+------------------+------------------+\nonly showing top 20 rows\n\n"
     ]
    }
   ],
   "source": [
    "# Filter the DataFrame where strikerate is greater than 125\n",
    "filtered_df = df_most_runs_average_strikerate.filter(df_most_runs_average_strikerate.strikerate > 135)\n",
    "\n",
    "# Show the filtered DataFrame to verify (optional)\n",
    "filtered_df.show()"
   ]
  },
  {
   "cell_type": "code",
   "execution_count": 0,
   "metadata": {
    "application/vnd.databricks.v1+cell": {
     "cellMetadata": {
      "byteLimit": 2048000,
      "rowLimit": 10000
     },
     "inputWidgets": {},
     "nuid": "681e0676-2740-4a07-894f-3e6685321289",
     "showTitle": false,
     "title": ""
    }
   },
   "outputs": [
    {
     "output_type": "stream",
     "name": "stdout",
     "output_type": "stream",
     "text": [
      "Out[15]: 516"
     ]
    }
   ],
   "source": [
    "df_most_runs_average_strikerate.count()"
   ]
  },
  {
   "cell_type": "code",
   "execution_count": 0,
   "metadata": {
    "application/vnd.databricks.v1+cell": {
     "cellMetadata": {
      "byteLimit": 2048000,
      "rowLimit": 10000
     },
     "inputWidgets": {},
     "nuid": "46901d22-3596-4f7f-8d0f-1145ecc49ac8",
     "showTitle": false,
     "title": ""
    }
   },
   "outputs": [],
   "source": [
    "# Define the exact path to the existing 'transformed-data' directory\n",
    "output_path = \"/mnt/dataformula1/formula-one-data/transformed-data/filtered_strikerates\"\n",
    "\n",
    "# Write the DataFrame to CSV without additional subdirectories\n",
    "filtered_df.write.mode('overwrite').option(\"header\", \"true\").csv(output_path)\n",
    "\n"
   ]
  },
  {
   "cell_type": "code",
   "execution_count": 0,
   "metadata": {
    "application/vnd.databricks.v1+cell": {
     "cellMetadata": {
      "byteLimit": 2048000,
      "rowLimit": 10000
     },
     "inputWidgets": {},
     "nuid": "ae3d7d47-cd38-4b3c-9ad2-e8165af42ce3",
     "showTitle": false,
     "title": ""
    }
   },
   "outputs": [
    {
     "output_type": "stream",
     "name": "stdout",
     "output_type": "stream",
     "text": [
      "+--------------+----------+---+-------------+---------+------------------+\n|       batsman|total_runs|out|numberofballs|  average|        strikerate|\n+--------------+----------+---+-------------+---------+------------------+\n|    J Bairstow|       459|  8|          284|   57.375|161.61971830985914|\n|       HM Amla|       577| 13|          407|44.384617|141.76904176904176|\n|AB de Villiers|      4414|104|         2902|42.442307|152.10199862164023|\n|     DA Warner|      4717|114|         3292|41.377193|143.28675577156744|\n|      CH Gayle|      4525|110|         2972|41.136364| 152.2543741588156|\n|     ML Hayden|      1107| 27|          802|     41.0| 138.0299251870324|\n|      KL Rahul|      1988| 49|         1428| 40.57143| 139.2156862745098|\n|    JC Buttler|      1396| 37|          919| 37.72973|151.90424374319912|\n|      MS Dhoni|      4450|118|         3206|37.711864|138.80224578914536|\n|       RR Pant|      1767| 49|         1071|36.061226| 164.9859943977591|\n|      AN Ahmed|        36|  1|           26|     36.0|138.46153846153845|\n|       CA Lynn|      1288| 37|          909| 34.81081| 141.6941694169417|\n|    AD Russell|      1415| 41|          752|34.512196|188.16489361702128|\n|     DA Miller|      1858| 54|         1327|34.407406|140.01507159005274|\n|       TM Head|       205|  6|          148|34.166668|138.51351351351352|\n|      SK Raina|      5386|160|         3916|  33.6625|137.53830439223697|\n|     M Santner|        33|  1|           23|     33.0|143.47826086956522|\n|    D Salunkhe|        33|  1|           24|     33.0|             137.5|\n|  Kamran Akmal|       128|  4|           78|     32.0| 164.1025641025641|\n|     SR Watson|      3590|115|         2566|31.217392|139.90646921278253|\n+--------------+----------+---+-------------+---------+------------------+\nonly showing top 20 rows\n\n"
     ]
    }
   ],
   "source": [
    "from pyspark.sql.functions import col\n",
    "\n",
    "filtered_df = filtered_df.withColumn(\"average\", col(\"average\").cast(\"float\"))\n",
    "\n",
    "# Sort the DataFrame by the 'average' column in ascending order\n",
    "sorted_df = filtered_df.orderBy(\"average\", ascending=False)\n",
    "\n",
    "# Show the sorted DataFrame\n",
    "sorted_df.show()"
   ]
  },
  {
   "cell_type": "code",
   "execution_count": 0,
   "metadata": {
    "application/vnd.databricks.v1+cell": {
     "cellMetadata": {
      "byteLimit": 2048000,
      "rowLimit": 10000
     },
     "inputWidgets": {},
     "nuid": "6397197a-5552-42cf-ab68-05b7e85c1736",
     "showTitle": false,
     "title": ""
    }
   },
   "outputs": [
    {
     "output_type": "stream",
     "name": "stdout",
     "output_type": "stream",
     "text": [
      "+--------------+----------+---+-------------+-------+----------+\n|       batsman|total_runs|out|numberofballs|average|strikerate|\n+--------------+----------+---+-------------+-------+----------+\n|    J Bairstow|       459|  8|          284|  57.38|    161.62|\n|       HM Amla|       577| 13|          407|  44.38|    141.77|\n|AB de Villiers|      4414|104|         2902|  42.44|    152.10|\n|     DA Warner|      4717|114|         3292|  41.38|    143.29|\n|      CH Gayle|      4525|110|         2972|  41.14|    152.25|\n|     ML Hayden|      1107| 27|          802|  41.00|    138.03|\n|      KL Rahul|      1988| 49|         1428|  40.57|    139.22|\n|    JC Buttler|      1396| 37|          919|  37.73|    151.90|\n|      MS Dhoni|      4450|118|         3206|  37.71|    138.80|\n|       RR Pant|      1767| 49|         1071|  36.06|    164.99|\n|      AN Ahmed|        36|  1|           26|  36.00|    138.46|\n|       CA Lynn|      1288| 37|          909|  34.81|    141.69|\n|    AD Russell|      1415| 41|          752|  34.51|    188.16|\n|     DA Miller|      1858| 54|         1327|  34.41|    140.02|\n|       TM Head|       205|  6|          148|  34.17|    138.51|\n|      SK Raina|      5386|160|         3916|  33.66|    137.54|\n|     M Santner|        33|  1|           23|  33.00|    143.48|\n|    D Salunkhe|        33|  1|           24|  33.00|    137.50|\n|  Kamran Akmal|       128|  4|           78|  32.00|    164.10|\n|     SR Watson|      3590|115|         2566|  31.22|    139.91|\n+--------------+----------+---+-------------+-------+----------+\nonly showing top 20 rows\n\n"
     ]
    }
   ],
   "source": [
    "from pyspark.sql.functions import col, format_number\n",
    "\n",
    "# Assuming the DataFrame 'sorted_df' is already loaded\n",
    "# Convert the 'strikerate' and 'average' columns to float and format them to two decimal places\n",
    "df_final = sorted_df \\\n",
    "    .withColumn(\"strikerate\", col(\"strikerate\").cast(\"float\")) \\\n",
    "    .withColumn(\"strikerate\", format_number(\"strikerate\", 2)) \\\n",
    "    .withColumn(\"average\", col(\"average\").cast(\"float\")) \\\n",
    "    .withColumn(\"average\", format_number(\"average\", 2))\n",
    "\n",
    "# Show the DataFrame to verify the formatting\n",
    "df_final.show()\n"
   ]
  },
  {
   "cell_type": "code",
   "execution_count": 0,
   "metadata": {
    "application/vnd.databricks.v1+cell": {
     "cellMetadata": {
      "byteLimit": 2048000,
      "rowLimit": 10000
     },
     "inputWidgets": {},
     "nuid": "3b24fe77-2987-4386-b3aa-db7957ebe121",
     "showTitle": false,
     "title": ""
    }
   },
   "outputs": [
    {
     "output_type": "stream",
     "name": "stdout",
     "output_type": "stream",
     "text": [
      "Out[33]: 91"
     ]
    }
   ],
   "source": [
    "df_final.count()"
   ]
  },
  {
   "cell_type": "code",
   "execution_count": 0,
   "metadata": {
    "application/vnd.databricks.v1+cell": {
     "cellMetadata": {
      "byteLimit": 2048000,
      "rowLimit": 10000
     },
     "inputWidgets": {},
     "nuid": "03fce5a1-4f8f-48a6-bdb3-6a469e965348",
     "showTitle": false,
     "title": ""
    }
   },
   "outputs": [],
   "source": [
    "# Specify the output path under the 'transformed-data' directory\n",
    "output_path = \"/mnt/dataformula1/formula-one-data/transformed-data/filtered_stats\"\n",
    "# Write the DataFrame to CSV in the specified path\n",
    "df_final.write.mode('overwrite').option(\"header\", \"true\").csv(output_path)\n"
   ]
  }
 ],
 "metadata": {
  "application/vnd.databricks.v1+notebook": {
   "dashboards": [],
   "environmentMetadata": null,
   "language": "python",
   "notebookMetadata": {
    "mostRecentlyExecutedCommandWithImplicitDF": {
     "commandId": 4403164233553835,
     "dataframes": [
      "_sqldf"
     ]
    },
    "pythonIndentUnit": 4
   },
   "notebookName": "IPL Notebook",
   "widgets": {}
  }
 },
 "nbformat": 4,
 "nbformat_minor": 0
}
